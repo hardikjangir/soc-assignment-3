{
  "nbformat": 4,
  "nbformat_minor": 0,
  "metadata": {
    "colab": {
      "provenance": [],
      "gpuType": "T4"
    },
    "kernelspec": {
      "name": "python3",
      "display_name": "Python 3"
    },
    "language_info": {
      "name": "python"
    },
    "accelerator": "GPU"
  },
  "cells": [
    {
      "cell_type": "code",
      "execution_count": null,
      "metadata": {
        "id": "aQrN0fVAzRFq"
      },
      "outputs": [],
      "source": [
        "import pandas as pd\n",
        "from datetime import datetime, timedelta\n",
        "\n",
        "\n",
        "import numpy as np\n",
        "\n",
        "from sklearn.preprocessing import MinMaxScaler\n",
        "import matplotlib.pyplot as plt\n",
        "import tensorflow as tf\n"
      ]
    },
    {
      "cell_type": "code",
      "source": [
        "!pip install requests\n",
        "import requests"
      ],
      "metadata": {
        "colab": {
          "base_uri": "https://localhost:8080/"
        },
        "id": "CGslNYqgzf9M",
        "outputId": "d13626bb-87db-4884-bf63-18fcfeb70220"
      },
      "execution_count": null,
      "outputs": [
        {
          "output_type": "stream",
          "name": "stdout",
          "text": [
            "Requirement already satisfied: requests in /usr/local/lib/python3.10/dist-packages (2.30.0)\n",
            "Requirement already satisfied: charset-normalizer<4,>=2 in /usr/local/lib/python3.10/dist-packages (from requests) (3.3.2)\n",
            "Requirement already satisfied: idna<4,>=2.5 in /usr/local/lib/python3.10/dist-packages (from requests) (3.7)\n",
            "Requirement already satisfied: urllib3<3,>=1.21.1 in /usr/local/lib/python3.10/dist-packages (from requests) (2.0.7)\n",
            "Requirement already satisfied: certifi>=2017.4.17 in /usr/local/lib/python3.10/dist-packages (from requests) (2024.7.4)\n"
          ]
        }
      ]
    },
    {
      "cell_type": "code",
      "source": [
        "# Replace 'your_api_token_here' with your actual Tiingo API token\n",
        "api_token = '006fb064a2f4e8c83cb5c22a1fbe4179be29a75e'\n",
        "ticker = 'TSLA'\n",
        "\n",
        "# Calculate the start date (5 years ago from today)\n",
        "end_date = datetime.now()-timedelta(days=30)\n",
        "start_date =  datetime(1960, 1, 1)\n",
        "\n",
        "# Format dates as strings\n",
        "start_date_str = start_date.strftime('%Y-%m-%d')\n",
        "end_date_str = end_date.strftime('%Y-%m-%d')\n",
        "\n",
        "# URL for historical prices\n",
        "url = f'https://api.tiingo.com/tiingo/daily/{ticker}/prices?startDate={start_date_str}&endDate={end_date_str}'\n",
        "\n",
        "headers = {\n",
        "    'Content-Type': 'application/json',\n",
        "    'Authorization': f'Token {api_token}'\n",
        "}\n",
        "\n",
        "response = requests.get(url, headers=headers)\n",
        "\n",
        "if response.status_code == 200:\n",
        "    data = response.json()\n",
        "    print(f\"Fetched {len(data)} days of data for tesla.\")\n",
        "else:\n",
        "    print(\"Failed to fetch data. Status code:\", response.status_code)\n"
      ],
      "metadata": {
        "colab": {
          "base_uri": "https://localhost:8080/"
        },
        "id": "ZESXfuzSzf5i",
        "outputId": "0ffdbca9-03a7-483a-a0ea-be7e24934531"
      },
      "execution_count": null,
      "outputs": [
        {
          "output_type": "stream",
          "name": "stdout",
          "text": [
            "Fetched 3519 days of data for tesla.\n"
          ]
        }
      ]
    },
    {
      "cell_type": "code",
      "source": [
        "import pandas as pd\n",
        "# Convert JSON data to pandas DataFrame\n",
        "df = pd.DataFrame(data)\n",
        "df.info()\n"
      ],
      "metadata": {
        "colab": {
          "base_uri": "https://localhost:8080/"
        },
        "collapsed": true,
        "id": "t2ZQdpvlzf2c",
        "outputId": "4b9c6179-da49-4e32-dc92-a143495585e9"
      },
      "execution_count": null,
      "outputs": [
        {
          "output_type": "stream",
          "name": "stdout",
          "text": [
            "<class 'pandas.core.frame.DataFrame'>\n",
            "RangeIndex: 3519 entries, 0 to 3518\n",
            "Data columns (total 13 columns):\n",
            " #   Column       Non-Null Count  Dtype  \n",
            "---  ------       --------------  -----  \n",
            " 0   date         3519 non-null   object \n",
            " 1   close        3519 non-null   float64\n",
            " 2   high         3519 non-null   float64\n",
            " 3   low          3519 non-null   float64\n",
            " 4   open         3519 non-null   float64\n",
            " 5   volume       3519 non-null   int64  \n",
            " 6   adjClose     3519 non-null   float64\n",
            " 7   adjHigh      3519 non-null   float64\n",
            " 8   adjLow       3519 non-null   float64\n",
            " 9   adjOpen      3519 non-null   float64\n",
            " 10  adjVolume    3519 non-null   int64  \n",
            " 11  divCash      3519 non-null   float64\n",
            " 12  splitFactor  3519 non-null   float64\n",
            "dtypes: float64(10), int64(2), object(1)\n",
            "memory usage: 357.5+ KB\n"
          ]
        }
      ]
    },
    {
      "cell_type": "code",
      "source": [
        "# Preprocess the data\n",
        "df['date'] = pd.to_datetime(df['date'])\n",
        "df.set_index('date', inplace=True)"
      ],
      "metadata": {
        "id": "XBFIzx4Yzfv6"
      },
      "execution_count": null,
      "outputs": []
    },
    {
      "cell_type": "code",
      "source": [
        "data = df['close'].values\n",
        "\n",
        "# Normalize the data\n",
        "scaler = MinMaxScaler(feature_range=(0, 1))\n",
        "data = scaler.fit_transform(data.reshape(-1, 1))\n"
      ],
      "metadata": {
        "id": "lYw_OnjozftH"
      },
      "execution_count": null,
      "outputs": []
    },
    {
      "cell_type": "code",
      "source": [
        "# Prepare data\n",
        "seq_length = 60\n",
        "def prepare_data(data, seq_length):\n",
        "    sequences = []\n",
        "    for i in range(len(data) - seq_length):\n",
        "        sequences.append(data[i:i + seq_length])\n",
        "    return np.array(sequences)\n",
        "\n",
        "data_sequences = prepare_data(data, seq_length)"
      ],
      "metadata": {
        "id": "DxZqkuClzfp6"
      },
      "execution_count": null,
      "outputs": []
    },
    {
      "cell_type": "code",
      "source": [
        " # Split into train and test sets (last 30 days for testing)\n",
        "split = len(data_sequences) - 30\n",
        "train_data = data_sequences[:split]\n",
        "test_data = data_sequences[split:]\n"
      ],
      "metadata": {
        "id": "GCre66gmzfnM"
      },
      "execution_count": null,
      "outputs": []
    },
    {
      "cell_type": "code",
      "source": [
        "# Reshape data for TimeGAN (samples, time steps, features)\n",
        "train_data = train_data.reshape(train_data.shape[0], train_data.shape[1], 1)\n",
        "test_data = test_data.reshape(test_data.shape[0], test_data.shape[1], 1)"
      ],
      "metadata": {
        "id": "dKJWJJKjzfTn"
      },
      "execution_count": null,
      "outputs": []
    },
    {
      "cell_type": "code",
      "source": [
        "import tensorflow as tf\n",
        "from tensorflow.keras.layers import Input, Dense, LSTM, GRU, TimeDistributed, BatchNormalization\n",
        "from tensorflow.keras.models import Model\n",
        "from tensorflow.keras.optimizers import legacy as tf_legacy\n"
      ],
      "metadata": {
        "id": "1uNNLdfG6J1U"
      },
      "execution_count": null,
      "outputs": []
    },
    {
      "cell_type": "code",
      "source": [
        "def build_generator(seq_length, n_features):\n",
        "    model = tf.keras.Sequential()\n",
        "    model.add(GRU(128, input_shape=(seq_length, n_features), return_sequences=True))\n",
        "    model.add(GRU(64, return_sequences=True))\n",
        "    model.add(TimeDistributed(Dense(n_features)))\n",
        "    return model\n"
      ],
      "metadata": {
        "id": "JIrxYmAb6U9o"
      },
      "execution_count": null,
      "outputs": []
    },
    {
      "cell_type": "code",
      "source": [
        "def build_discriminator(seq_length, n_features):\n",
        "    model = tf.keras.Sequential()\n",
        "    model.add(GRU(128, input_shape=(seq_length, n_features), return_sequences=True))\n",
        "    model.add(GRU(64))\n",
        "    model.add(Dense(1, activation='sigmoid'))\n",
        "    return model\n"
      ],
      "metadata": {
        "id": "r4DiC7l77QGG"
      },
      "execution_count": null,
      "outputs": []
    },
    {
      "cell_type": "code",
      "source": [
        "def build_encoder(seq_length, n_features):\n",
        "    model = tf.keras.Sequential()\n",
        "    model.add(GRU(128, input_shape=(seq_length, n_features), return_sequences=True))\n",
        "    model.add(GRU(64))\n",
        "    model.add(Dense(32))\n",
        "    return model\n"
      ],
      "metadata": {
        "id": "I8zOYQks7Sqy"
      },
      "execution_count": null,
      "outputs": []
    },
    {
      "cell_type": "code",
      "source": [
        "class TimeGAN:\n",
        "    def __init__(self, seq_length, n_features):\n",
        "        self.seq_length = seq_length\n",
        "        self.n_features = n_features\n",
        "\n",
        "        self.generator = build_generator(seq_length, n_features)\n",
        "        self.discriminator = build_discriminator(seq_length, n_features)\n",
        "        self.encoder = build_encoder(seq_length, n_features)\n",
        "\n",
        "        self.optimizer = tf_legacy.Adam(learning_rate=0.0002, beta_1=0.5)\n",
        "\n",
        "        # Compile models\n",
        "        self.discriminator.compile(loss='binary_crossentropy', optimizer=self.optimizer, metrics=['accuracy'])\n",
        "        self.generator.compile(loss='binary_crossentropy', optimizer=self.optimizer)\n",
        "        self.encoder.compile(loss='mse', optimizer=self.optimizer)\n",
        "\n",
        "        self.gan = self.build_gan()\n",
        "\n",
        "    def build_gan(self):\n",
        "        self.discriminator.trainable = False\n",
        "        gan_input = Input(shape=(self.seq_length, self.n_features))\n",
        "        x = self.generator(gan_input)\n",
        "        gan_output = self.discriminator(x)\n",
        "        gan = Model(inputs=gan_input, outputs=gan_output)\n",
        "        gan.compile(loss='binary_crossentropy', optimizer=self.optimizer)\n",
        "        return gan\n",
        "\n",
        "    def train(self, X_train, epochs=10000, batch_size=128):\n",
        "        for epoch in range(epochs):\n",
        "            # Train discriminator\n",
        "            idx = np.random.randint(0, X_train.shape[0], batch_size)\n",
        "            real_sequences = X_train[idx]\n",
        "            fake_sequences = self.generator.predict(np.random.normal(0, 1, (batch_size, self.seq_length, self.n_features)))\n",
        "            d_loss_real = self.discriminator.train_on_batch(real_sequences, np.ones((batch_size, 1)))\n",
        "            d_loss_fake = self.discriminator.train_on_batch(fake_sequences, np.zeros((batch_size, 1)))\n",
        "\n",
        "            # Train generator\n",
        "            g_loss = self.gan.train_on_batch(np.random.normal(0, 1, (batch_size, self.seq_length, self.n_features)), np.ones((batch_size, 1)))\n",
        "\n",
        "            if epoch % 1000 == 0:\n",
        "                print(f\"Epoch {epoch} | Discriminator Loss: {0.5 * (d_loss_real[0] + d_loss_fake[0])} | Generator Loss: {g_loss}\")\n",
        "\n",
        "    def sample(self, n_samples):\n",
        "        return self.generator.predict(np.random.normal(0, 1, (n_samples, self.seq_length, self.n_features)))\n"
      ],
      "metadata": {
        "id": "JG2Z-4V47Uzq"
      },
      "execution_count": null,
      "outputs": []
    },
    {
      "cell_type": "code",
      "source": [
        "# Instantiate TimeGAN\n",
        "timegan = TimeGAN(seq_length, 1)\n",
        "\n",
        "# Train TimeGAN\n",
        "timegan.train(train_data, epochs=100, batch_size=128)\n",
        "\n",
        "# Generate synthetic data\n",
        "synthetic_data = timegan.sample(len(test_data))\n",
        "synthetic_data = scaler.inverse_transform(synthetic_data.reshape(-1, 1))\n"
      ],
      "metadata": {
        "colab": {
          "base_uri": "https://localhost:8080/"
        },
        "collapsed": true,
        "id": "frLcRpPV6YW-",
        "outputId": "13b02dfd-c084-443b-9ac1-caac1aba6ae9"
      },
      "execution_count": null,
      "outputs": [
        {
          "output_type": "stream",
          "name": "stdout",
          "text": [
            "4/4 [==============================] - 1s 5ms/step\n",
            "Epoch 0 | Discriminator Loss: 0.6943720281124115 | Generator Loss: 0.6908973455429077\n",
            "4/4 [==============================] - 0s 5ms/step\n",
            "4/4 [==============================] - 0s 5ms/step\n",
            "4/4 [==============================] - 0s 4ms/step\n",
            "4/4 [==============================] - 0s 4ms/step\n",
            "4/4 [==============================] - 0s 5ms/step\n",
            "4/4 [==============================] - 0s 5ms/step\n",
            "4/4 [==============================] - 0s 5ms/step\n",
            "4/4 [==============================] - 0s 4ms/step\n",
            "4/4 [==============================] - 0s 5ms/step\n",
            "4/4 [==============================] - 0s 6ms/step\n",
            "4/4 [==============================] - 0s 5ms/step\n",
            "4/4 [==============================] - 0s 6ms/step\n",
            "4/4 [==============================] - 0s 5ms/step\n",
            "4/4 [==============================] - 0s 6ms/step\n",
            "4/4 [==============================] - 0s 6ms/step\n",
            "4/4 [==============================] - 0s 7ms/step\n",
            "4/4 [==============================] - 0s 7ms/step\n",
            "4/4 [==============================] - 0s 6ms/step\n",
            "4/4 [==============================] - 0s 7ms/step\n",
            "4/4 [==============================] - 0s 5ms/step\n",
            "4/4 [==============================] - 0s 5ms/step\n",
            "4/4 [==============================] - 0s 5ms/step\n",
            "4/4 [==============================] - 0s 5ms/step\n",
            "4/4 [==============================] - 0s 5ms/step\n",
            "4/4 [==============================] - 0s 4ms/step\n",
            "4/4 [==============================] - 0s 5ms/step\n",
            "4/4 [==============================] - 0s 4ms/step\n",
            "4/4 [==============================] - 0s 4ms/step\n",
            "4/4 [==============================] - 0s 4ms/step\n",
            "4/4 [==============================] - 0s 4ms/step\n",
            "4/4 [==============================] - 0s 5ms/step\n",
            "4/4 [==============================] - 0s 5ms/step\n",
            "4/4 [==============================] - 0s 6ms/step\n",
            "4/4 [==============================] - 0s 5ms/step\n",
            "4/4 [==============================] - 0s 5ms/step\n",
            "4/4 [==============================] - 0s 4ms/step\n",
            "4/4 [==============================] - 0s 5ms/step\n",
            "4/4 [==============================] - 0s 5ms/step\n",
            "4/4 [==============================] - 0s 4ms/step\n",
            "4/4 [==============================] - 0s 5ms/step\n",
            "4/4 [==============================] - 0s 5ms/step\n",
            "4/4 [==============================] - 0s 5ms/step\n",
            "4/4 [==============================] - 0s 5ms/step\n",
            "4/4 [==============================] - 0s 4ms/step\n",
            "4/4 [==============================] - 0s 5ms/step\n",
            "4/4 [==============================] - 0s 4ms/step\n",
            "4/4 [==============================] - 0s 4ms/step\n",
            "4/4 [==============================] - 0s 5ms/step\n",
            "4/4 [==============================] - 0s 4ms/step\n",
            "4/4 [==============================] - 0s 4ms/step\n",
            "4/4 [==============================] - 0s 4ms/step\n",
            "4/4 [==============================] - 0s 5ms/step\n",
            "4/4 [==============================] - 0s 5ms/step\n",
            "4/4 [==============================] - 0s 5ms/step\n",
            "4/4 [==============================] - 0s 5ms/step\n",
            "4/4 [==============================] - 0s 5ms/step\n",
            "4/4 [==============================] - 0s 5ms/step\n",
            "4/4 [==============================] - 0s 5ms/step\n",
            "4/4 [==============================] - 0s 4ms/step\n",
            "4/4 [==============================] - 0s 5ms/step\n",
            "4/4 [==============================] - 0s 4ms/step\n",
            "4/4 [==============================] - 0s 5ms/step\n",
            "4/4 [==============================] - 0s 5ms/step\n",
            "4/4 [==============================] - 0s 5ms/step\n",
            "4/4 [==============================] - 0s 5ms/step\n",
            "4/4 [==============================] - 0s 5ms/step\n",
            "4/4 [==============================] - 0s 4ms/step\n",
            "4/4 [==============================] - 0s 4ms/step\n",
            "4/4 [==============================] - 0s 5ms/step\n",
            "4/4 [==============================] - 0s 4ms/step\n",
            "4/4 [==============================] - 0s 5ms/step\n",
            "4/4 [==============================] - 0s 5ms/step\n",
            "4/4 [==============================] - 0s 4ms/step\n",
            "4/4 [==============================] - 0s 5ms/step\n",
            "4/4 [==============================] - 0s 5ms/step\n",
            "4/4 [==============================] - 0s 5ms/step\n",
            "4/4 [==============================] - 0s 5ms/step\n",
            "4/4 [==============================] - 0s 5ms/step\n",
            "4/4 [==============================] - 0s 5ms/step\n",
            "4/4 [==============================] - 0s 5ms/step\n",
            "4/4 [==============================] - 0s 4ms/step\n",
            "4/4 [==============================] - 0s 5ms/step\n",
            "4/4 [==============================] - 0s 5ms/step\n",
            "4/4 [==============================] - 0s 5ms/step\n",
            "4/4 [==============================] - 0s 5ms/step\n",
            "4/4 [==============================] - 0s 5ms/step\n",
            "4/4 [==============================] - 0s 5ms/step\n",
            "4/4 [==============================] - 0s 5ms/step\n",
            "4/4 [==============================] - 0s 7ms/step\n",
            "4/4 [==============================] - 0s 6ms/step\n",
            "4/4 [==============================] - 0s 6ms/step\n",
            "4/4 [==============================] - 0s 6ms/step\n",
            "4/4 [==============================] - 0s 7ms/step\n",
            "4/4 [==============================] - 0s 6ms/step\n",
            "4/4 [==============================] - 0s 5ms/step\n",
            "4/4 [==============================] - 0s 6ms/step\n",
            "4/4 [==============================] - 0s 4ms/step\n",
            "4/4 [==============================] - 0s 5ms/step\n",
            "4/4 [==============================] - 0s 5ms/step\n",
            "1/1 [==============================] - 1s 547ms/step\n"
          ]
        }
      ]
    },
    {
      "cell_type": "code",
      "source": [
        "# Extract the last 30 days from the original test data\n",
        "actual_prices = scaler.inverse_transform(test_data.reshape(-1, 1))[-30:].flatten()\n",
        "predicted_prices = synthetic_data[-30:].flatten()\n",
        "\n",
        "# Dates for the last 30 days\n",
        "dates = df.index[-30:]\n",
        "\n",
        "# Plot TimeGAN results\n",
        "plt.figure(figsize=(14, 7))\n",
        "plt.plot(dates, actual_prices, color='blue', label='Actual Price')\n",
        "plt.plot(dates, predicted_prices, color='red', label='Predicted Price (TimeGAN)')\n",
        "plt.title('TimeGAN Model: Actual vs Predicted Stock Prices')\n",
        "plt.xlabel('Date')\n",
        "plt.ylabel('Stock Price')\n",
        "plt.legend()\n",
        "plt.show()\n",
        "\n",
        "# Calculate metrics\n",
        "from sklearn.metrics import mean_squared_error\n",
        "mse_timegan = mean_squared_error(actual_prices, predicted_prices)\n",
        "print(f'TimeGAN Model MSE: {mse_timegan}')\n"
      ],
      "metadata": {
        "colab": {
          "base_uri": "https://localhost:8080/",
          "height": 659
        },
        "id": "EjOAf8eM6YVd",
        "outputId": "5fd5a868-d732-4574-f162-ab88a5d3d13d"
      },
      "execution_count": null,
      "outputs": [
        {
          "output_type": "display_data",
          "data": {
            "text/plain": [
              "<Figure size 1400x700 with 1 Axes>"
            ],
            "image/png": "[encoded data removed]"
          },
          "metadata": {}
        },
        {
          "output_type": "stream",
          "name": "stdout",
          "text": [
            "TimeGAN Model MSE: 120670.088237232\n"
          ]
        }
      ]
    }
  ]
}